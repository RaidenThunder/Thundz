{
  "cells": [
    {
      "cell_type": "markdown",
      "id": "ea530e6a-6fa8-4300-a779-70ff5f2ded81",
      "metadata": {
        "id": "ea530e6a-6fa8-4300-a779-70ff5f2ded81"
      },
      "source": [
        "# Assignment Solution - NLP - **Group 121**"
      ]
    },
    {
      "cell_type": "markdown",
      "id": "5cafc50f",
      "metadata": {
        "id": "5cafc50f"
      },
      "source": [
        "## Step 1: Install & Import Required Libraries"
      ]
    },
    {
      "cell_type": "code",
      "execution_count": 22,
      "id": "53275c40",
      "metadata": {
        "id": "53275c40"
      },
      "outputs": [],
      "source": [
        "#Importing core data libraries\n",
        "import pandas as pd# For loading and working with tabular data (like DataFrames)\n",
        "import numpy as np# For numerical operations and array manipulations\n",
        "\n",
        "#TF-IDF and similarity\n",
        "from sklearn.feature_extraction.text import TfidfVectorizer  # To convert text into numerical features\n",
        "from sklearn.metrics.pairwise import cosine_similarity       # To measure similarity between vectors\n",
        "from sklearn.decomposition import PCA                        # For reducing feature dimensions (used in plotting)\n",
        "\n",
        "#Visualization libraries\n",
        "import matplotlib.pyplot as plt    # For creating plots and visualizations\n",
        "\n",
        "#Natural Language Toolkit (NLTK) for text processing\n",
        "import nltk\n",
        "from nltk.tokenize import word_tokenize                    # To split sentences into individual words\n",
        "from nltk.corpus import stopwords                          # To remove common stop words like \"is\", \"the\", etc.\n",
        "from nltk.stem import PorterStemmer, WordNetLemmatizer     # To reduce words to their root form\n",
        "\n",
        "#For handling punctuation\n",
        "import string\n",
        "\n",
        "#Suppress unnecessary warning messages\n",
        "import warnings\n",
        "warnings.filterwarnings(\"ignore\")\n",
        "\n",
        "#Utility for wrapping long text for better readability in print\n",
        "import textwrap\n",
        "\n",
        "#Statistical tools for language modeling\n",
        "from collections import defaultdict, Counter               # For efficient counting of unigrams and bigrams\n",
        "import math                                                # For log and exponential calculations\n",
        "\n",
        "#Install and import external library used to adjust text labels in plots\n",
        "!pip install adjustText --quiet                            # Install only if not already available\n",
        "from adjustText import adjust_text                         # For avoiding label overlap in PCA plots\n"
      ]
    },
    {
      "cell_type": "code",
      "source": [
        "# Increasing the display size\n",
        "pd.set_option('display.max_rows', 100)\n",
        "pd.set_option('display.max_columns', 50)\n",
        "pd.set_option('display.max_colwidth', 200)\n"
      ],
      "metadata": {
        "id": "bB1Cdz7MeoXP"
      },
      "id": "bB1Cdz7MeoXP",
      "execution_count": 23,
      "outputs": []
    },
    {
      "cell_type": "markdown",
      "id": "7ff13ab4",
      "metadata": {
        "id": "7ff13ab4"
      },
      "source": [
        "## Step 2: Download NLTK Resources"
      ]
    },
    {
      "cell_type": "code",
      "execution_count": 24,
      "id": "ee9e8f86",
      "metadata": {
        "colab": {
          "base_uri": "https://localhost:8080/"
        },
        "id": "ee9e8f86",
        "outputId": "b82b55f0-af73-4561-9f72-0e740ab563c6"
      },
      "outputs": [
        {
          "output_type": "stream",
          "name": "stderr",
          "text": [
            "[nltk_data] Downloading package punkt_tab to /root/nltk_data...\n",
            "[nltk_data]   Package punkt_tab is already up-to-date!\n",
            "[nltk_data] Downloading package stopwords to /root/nltk_data...\n",
            "[nltk_data]   Package stopwords is already up-to-date!\n",
            "[nltk_data] Downloading package wordnet to /root/nltk_data...\n",
            "[nltk_data]   Package wordnet is already up-to-date!\n",
            "[nltk_data] Downloading package omw-1.4 to /root/nltk_data...\n",
            "[nltk_data]   Package omw-1.4 is already up-to-date!\n"
          ]
        },
        {
          "output_type": "execute_result",
          "data": {
            "text/plain": [
              "True"
            ]
          },
          "metadata": {},
          "execution_count": 24
        }
      ],
      "source": [
        "# Downloading required libraries\n",
        "nltk.download('punkt_tab')\n",
        "nltk.download('stopwords')\n",
        "nltk.download('wordnet')\n",
        "nltk.download('omw-1.4')\n"
      ]
    },
    {
      "cell_type": "markdown",
      "id": "a4de1874",
      "metadata": {
        "id": "a4de1874"
      },
      "source": [
        "## Step 3: Upload and Load Dataset"
      ]
    },
    {
      "cell_type": "code",
      "execution_count": 25,
      "id": "6ad02ee0",
      "metadata": {
        "id": "6ad02ee0",
        "colab": {
          "base_uri": "https://localhost:8080/"
        },
        "outputId": "280cc696-2a37-47b2-efce-8cda386632ae"
      },
      "outputs": [
        {
          "output_type": "execute_result",
          "data": {
            "text/plain": [
              "(620, 2)"
            ]
          },
          "metadata": {},
          "execution_count": 25
        }
      ],
      "source": [
        "# Reading the given input file\n",
        "from google.colab import files\n",
        "df = pd.read_csv('/content/IMDB.csv')\n",
        "df.shape\n"
      ]
    },
    {
      "cell_type": "code",
      "execution_count": 26,
      "id": "ae868e14-8949-416f-a035-2ee563286868",
      "metadata": {
        "colab": {
          "base_uri": "https://localhost:8080/",
          "height": 146
        },
        "id": "ae868e14-8949-416f-a035-2ee563286868",
        "outputId": "0bc5b420-d5a6-4b52-bc77-44406e86 Dimitri"
      },
      "outputs": [
        {
          "output_type": "execute_result",
          "data": {
            "text/plain": [
              "   ID  \\\n",
              "0   1   \n",
              "1   2   \n",
              "\n",
              "                                                                                                                                                                                                    review  \n",
              "0  One of the other reviewers has mentioned that after watching just 1 Oz episode you'll be hooked. They are right, as this is exactly what happened with me.<br /><br />The first thing that struck me...  \n",
              "1  A wonderful little production. <br /><br />The filming technique is very unassuming- very old-time-BBC fashion and gives a comforting, and sometimes discomforting, sense of realism to the entire p...  "
            ],
            "text/html": [
              "\n",
              "  <div id=\"df-bad3a8f8-0e66-479b-9bb4-c2b3eedca3bb\" class=\"colab-df-container\">\n",
              "    <div>\n",
              "<style scoped>\n",
              "    .dataframe tbody tr th:only-of-type {\n",
              "        vertical-align: middle;\n",
              "    }\n",
              "\n",
              "    .dataframe tbody tr th {\n",
              "        vertical-align: top;\n",
              "    }\n",
              "\n",
              "    .dataframe thead th {\n",
              "        text-align: right;\n",
              "    }\n",
              "</style>\n",
              "<table border=\"1\" class=\"dataframe\">\n",
              "  <thead>\n",
              "    <tr style=\"text-align: right;\">\n",
              "      <th></th>\n",
              "      <th>ID</th>\n",
              "      <th>review</th>\n",
              "    </tr>\n",
              "  </thead>\n",
              "  <tbody>\n",
              "    <tr>\n",
              "      <th>0</th>\n",
              "      <td>1</td>\n",
              "      <td>One of the other reviewers has mentioned that after watching just 1 Oz episode you'll be hooked. They are right, as this is exactly what happened with me.&lt;br /&gt;&lt;br /&gt;The first thing that struck me...</td>\n",
              "    </tr>\n",
              "    <tr>\n",
              "      <th>1</th>\n",
              "      <td>2</td>\n",
              "      <td>A wonderful little production. &lt;br /&gt;&lt;br /&gt;The filming technique is very unassuming- very old-time-BBC fashion and gives a comforting, and sometimes discomforting, sense of realism to the entire p...</td>\n",
              "    </tr>\n",
              "  </tbody>\n",
              "</table>\n",
              "</div>\n",
              "    <div class=\"colab-df-buttons\">\n",
              "\n",
              "  <div class=\"colab-df-container\">\n",
              "    <button class=\"colab-df-convert\" onclick=\"convertToInteractive('df-bad3a8f8-0e66-479b-9bb4-c2b3eedca3bb')\"\n",
              "            title=\"Convert this dataframe to an interactive table.\"\n",
              "            style=\"display:none;\">\n",
              "\n",
              "  <svg xmlns=\"http://www.w3.org/2000/svg\" height=\"24px\" viewBox=\"0 -960 960 960\">\n",
              "    <path d=\"M120-120v-720h720v720H120Zm60-500h600v-160H180v160Zm220 220h160v-160H400v160Zm0 220h160v-160H400v160ZM180-400h160v-160H180v160Zm440 0h160v-160H620v160ZM180-180h160v-160H180v160Zm440 0h160v-160H620v160Z\"/>\n",
              "  </svg>\n",
              "    </button>\n",
              "\n",
              "  <style>\n",
              "    .colab-df-container {\n",
              "      display:flex;\n",
              "      gap: 12px;\n",
              "    }\n",
              "\n",
              "    .colab-df-convert {\n",
              "      background-color: #E8F0FE;\n",
              "      border: none;\n",
              "      border-radius: 50%;\n",
              "      cursor: pointer;\n",
              "      display: none;\n",
              "      fill: #1967D2;\n",
              "      height: 32px;\n",
              "      padding: 0 0 0 0;\n",
              "      width: 32px;\n",
              "    }\n",
              "\n",
              "    .colab-df-convert:hover {\n",
              "      background-color: #E2EBFA;\n",
              "      box-shadow: 0px 1px 2px rgba(60, 64, 67, 0.3), 0px 1px 3px 1px rgba(60, 64, 67, 0.15);\n",
              "      fill: #174EA6;\n",
              "    }\n",
              "\n",
              "    .colab-df-buttons div {\n",
              "      margin-bottom: 4px;\n",
              "    }\n",
              "\n",
              "    [theme=dark] .colab-df-convert {\n",
              "      background-color: #3B4455;\n",
              "      fill: #D2E3FC;\n",
              "    }\n",
              "\n",
              "    [theme=dark] .colab-df-convert:hover {\n",
              "      background-color: #434B5C;\n",
              "      box-shadow: 0px 1px 3px 1px rgba(0, 0, 0, 0.15);\n",
              "      filter: drop-shadow(0px 1px 2px rgba(0, 0, 0, 0.3));\n",
              "      fill: #FFFFFF;\n",
              "    }\n",
              "  </style>\n",
              "\n",
              "    <script>\n",
              "      const buttonEl =\n",
              "        document.querySelector('#df-bad3a8f8-0e66-479b-9bb4-c2b3eedca3bb button.colab-df-convert');\n",
              "      buttonEl.style.display =\n",
              "        google.colab.kernel.accessAllowed ? 'block' : 'none';\n",
              "\n",
              "      async function convertToInteractive(key) {\n",
              "        const element = document.querySelector('#df-bad3a8f8-0e66-479b-9bb4-c2b3eedca3bb');\n",
              "        const dataTable =\n",
              "          await google.colab.kernel.invokeFunction('convertToInteractive',\n",
              "                                                    [key], {});\n",
              "        if (!dataTable) return;\n",
              "\n",
              "        const docLinkHtml = 'Like what you see? Visit the ' +\n",
              "          '<a target=\"_blank\" href=https://colab.research.google.com/notebooks/data_table.ipynb>data table notebook</a>'\n",
              "          + ' to learn more about interactive tables.';\n",
              "        element.innerHTML = '';\n",
              "        dataTable['output_type'] = 'display_data';\n",
              "        await google.colab.output.renderOutput(dataTable, element);\n",
              "        const docLink = document.createElement('div');\n",
              "        docLink.innerHTML = docLinkHtml;\n",
              "        element.appendChild(docLink);\n",
              "      }\n",
              "    </script>\n",
              "  </div>\n",
              "\n",
              "\n",
              "    <div id=\"df-a0552a1f-f963-42f8-bb80-cea52b7ff339\">\n",
              "      <button class=\"colab-df-quickchart\" onclick=\"quickchart('df-a0552a1f-f963-42f8-bb80-cea52b7ff339')\"\n",
              "                title=\"Suggest charts\"\n",
              "                style=\"display:none;\">\n",
              "\n",
              "<svg xmlns=\"http://www.w3.org/2000/svg\" height=\"24px\"viewBox=\"0 0 24 24\"\n",
              "     width=\"24px\">\n",
              "    <g>\n",
              "        <path d=\"M19 3H5c-1.1 0-2 .9-2 2v14c0 1.1.9 2 2 2h14c1.1 0 2-.9 2-2V5c0-1.1-.9-2-2-2zM9 17H7v-7h2v7zm4 0h-2V7h2v10zm4 0h-2v-4h2v4z\"/>\n",
              "    </g>\n",
              "</svg>\n",
              "      </button>\n",
              "\n",
              "<style>\n",
              "  .colab-df-quickchart {\n",
              "      --bg-color: #E8F0FE;\n",
              "      --fill-color: #1967D2;\n",
              "      --hover-bg-color: #E2EBFA;\n",
              "      --hover-fill-color: #174EA6;\n",
              "      --disabled-fill-color: #AAA;\n",
              "      --disabled-bg-color: #DDD;\n",
              "  }\n",
              "\n",
              "  [theme=dark] .colab-df-quickchart {\n",
              "      --bg-color: #3B4455;\n",
              "      --fill-color: #D2E3FC;\n",
              "      --hover-bg-color: #434B5C;\n",
              "      --hover-fill-color: #FFFFFF;\n",
              "      --disabled-bg-color: #3B4455;\n",
              "      --disabled-fill-color: #666;\n",
              "  }\n",
              "\n",
              "  .colab-df-quickchart {\n",
              "    background-color: var(--bg-color);\n",
              "    border: none;\n",
              "    border-radius: 50%;\n",
              "    cursor: pointer;\n",
              "    display: none;\n",
              "    fill: var(--fill-color);\n",
              "    height: 32px;\n",
              "    padding: 0;\n",
              "    width: 32px;\n",
              "  }\n",
              "\n",
              "  .colab-df-quickchart:hover {\n",
              "    background-color: var(--hover-bg-color);\n",
              "    box-shadow: 0 1px 2px rgba(60, 64, 67, 0.3), 0 1px 3px 1px rgba(60, 64, 67, 0.15);\n",
              "    fill: var(--button-hover-fill-color);\n",
              "  }\n",
              "\n",
              "  .colab-df-quickchart-complete:disabled,\n",
              "  .colab-df-quickchart-complete:disabled:hover {\n",
              "    background-color: var(--disabled-bg-color);\n",
              "    fill: var(--disabled-fill-color);\n",
              "    box-shadow: none;\n",
              "  }\n",
              "\n",
              "  .colab-df-spinner {\n",
              "    border: 2px solid var(--fill-color);\n",
              "    border-color: transparent;\n",
              "    border-bottom-color: var(--fill-color);\n",
              "    animation:\n",
              "      spin 1s steps(1) infinite;\n",
              "  }\n",
              "\n",
              "  @keyframes spin {\n",
              "    0% {\n",
              "      border-color: transparent;\n",
              "      border-bottom-color: var(--fill-color);\n",
              "      border-left-color: var(--fill-color);\n",
              "    }\n",
              "    20% {\n",
              "      border-color: transparent;\n",
              "      border-left-color: var(--fill-color);\n",
              "      border-top-color: var(--fill-color);\n",
              "    }\n",
              "    30% {\n",
              "      border-color: transparent;\n",
              "      border-left-color: var(--fill-color);\n",
              "      border-top-color: var(--fill-color);\n",
              "      border-right-color: var(--fill-color);\n",
              "    }\n",
              "    40% {\n",
              "      border-color: transparent;\n",
              "      border-right-color: var(--fill-color);\n",
              "      border-top-color: var(--fill-color);\n",
              "    }\n",
              "    60% {\n",
              "      border-color: transparent;\n",
              "      border-right-color: var(--fill-color);\n",
              "    }\n",
              "    80% {\n",
              "      border-color: transparent;\n",
              "      border-right-color: var(--fill-color);\n",
              "      border-bottom-color: var(--fill-color);\n",
              "    }\n",
              "    90% {\n",
              "      border-color: transparent;\n",
              "      border-bottom-color: var(--fill-color);\n",
              "    }\n",
              "  }\n",
              "</style>\n",
              "\n",
              "      <script>\n",
              "        async function quickchart(key) {\n",
              "          const quickchartButtonEl =\n",
              "            document.querySelector('#' + key + ' button');\n",
              "          quickchartButtonEl.disabled = true;  // To prevent multiple clicks.\n",
              "          quickchartButtonEl.classList.add('colab-df-spinner');\n",
              "          try {\n",
              "            const charts = await google.colab.kernel.invokeFunction(\n",
              "                'suggestCharts', [key], {});\n",
              "          } catch (error) {\n",
              "            console.error('Error during call to suggestCharts:', error);\n",
              "          }\n",
              "          quickchartButtonEl.classList.remove('colab-df-spinner');\n",
              "          quickchartButtonEl.classList.add('colab-df-quickchart-complete');\n",
              "        }\n",
              "        (() => {\n",
              "          let quickchartButtonEl =\n",
              "            document.querySelector('#df-a0552a1f-f963-42f8-bb80-cea52b7ff339 button');\n",
              "          quickchartButtonEl.style.display =\n",
              "            google.colab.kernel.accessAllowed ? 'block' : 'none';\n",
              "        })();\n",
              "      </script>\n",
              "    </div>\n",
              "\n",
              "    </div>\n",
              "  </div>\n"
            ],
            "application/vnd.google.colaboratory.intrinsic+json": {
              "type": "dataframe",
              "summary": "{\n  \"name\": \"df[:2]\",\n  \"rows\": 2,\n  \"fields\": [\n    {\n      \"column\": \"ID\",\n      \"properties\": {\n        \"dtype\": \"number\",\n        \"std\": 0,\n        \"min\": 1,\n        \"max\": 2,\n        \"num_unique_values\": 2,\n        \"samples\": [\n          2,\n          1\n        ],\n        \"semantic_type\": \"\",\n        \"description\": \"\"\n      }\n    },\n    {\n      \"column\": \"review\",\n      \"properties\": {\n        \"dtype\": \"string\",\n        \"num_unique_values\": 2,\n        \"samples\": [\n          \"A wonderful little production. <br /><br />The filming technique is very unassuming- very old-time-BBC fashion and gives a comforting, and sometimes discomforting, sense of realism to the entire piece. <br /><br />The actors are extremely well chosen- Michael Sheen not only \\\"has got all the polari\\\" but he has all the voices down pat too! You can truly see the seamless editing guided by the references to Williams' diary entries, not only is it well worth the watching but it is a terrificly written and performed piece. A masterful production about one of the great master's of comedy and his life. <br /><br />The realism really comes home with the little things: the fantasy of the guard which, rather than use the traditional 'dream' techniques remains solid then disappears. It plays on our knowledge and our senses, particularly with the scenes concerning Orton and Halliwell and the sets (particularly of their flat with Halliwell's murals decorating every surface) are terribly well done.\",\n          \"One of the other reviewers has mentioned that after watching just 1 Oz episode you'll be hooked. They are right, as this is exactly what happened with me.<br /><br />The first thing that struck me about Oz was its brutality and unflinching scenes of violence, which set in right from the word GO. Trust me, this is not a show for the faint hearted or timid. This show pulls no punches with regards to drugs, sex or violence. Its is hardcore, in the classic use of the word.<br /><br />It is called OZ as that is the nickname given to the Oswald Maximum Security State Penitentary. It focuses mainly on Emerald City, an experimental section of the prison where all the cells have glass fronts and face inwards, so privacy is not high on the agenda. Em City is home to many..Aryans, Muslims, gangstas, Latinos, Christians, Italians, Irish and more....so scuffles, death stares, dodgy dealings and shady agreements are never far away.<br /><br />I would say the main appeal of the show is due to the fact that it goes where other shows wouldn't dare. Forget pretty pictures painted for mainstream audiences, forget charm, forget romance...OZ doesn't mess around. The first episode I ever saw struck me as so nasty it was surreal, I couldn't say I was ready for it, but as I watched more, I developed a taste for Oz, and got accustomed to the high levels of graphic violence. Not just violence, but injustice (crooked guards who'll be sold out for a nickel, inmates who'll kill on order and get away with it, well mannered, middle class inmates being turned into prison bitches due to their lack of street skills or prison experience) Watching Oz, you may become comfortable with what is uncomfortable viewing....thats if you can get in touch with your darker side.\"\n        ],\n        \"semantic_type\": \"\",\n        \"description\": \"\"\n      }\n    }\n  ]\n}"
            }
          },
          "metadata": {},
          "execution_count": 26
        }
      ],
      "source": [
        "# Previewing the first 2 records of the input file\n",
        "df[:2]\n"
      ]
    },
    {
      "cell_type": "markdown",
      "id": "0a372a8d",
      "metadata": {
        "id": "0a372a8d"
      },
      "source": [
        "## Part I: Bigram Language Model - Sentence Comparison"
      ]
    },
    {
      "cell_type": "code",
      "execution_count": 27,
      "id": "67a157f4",
      "metadata": {
        "colab": {
          "base_uri": "https://localhost:8080/"
        },
        "id": "67a157f4",
        "outputId": "9975d4cd-3da8-48df-851d-3c5f45eb074d"
      },
      "outputs": [],
      "source": [
        "# Note: The bigram language model code was truncated in the original input.\n",
        "# Please provide the complete code for this section if needed.\n",
        "# Placeholder for bigram model implementation.\n"
      ]
    },
    {
      "cell_type": "code",
      "execution_count": null,
      "id": "4QfHW4jssySc",
      "metadata": {
        "id": "4QfHW4jssySc"
      },
      "outputs": [],
      "source": [
        "#Notify that PCA plot generation is starting\n",
        "print(\"\\nPlotting PCA for Top 30 Most Important Words (by TF-IDF score)...\")\n",
        "\n",
        "# Step 1: Compute average TF-IDF score for each word across all documents\n",
        "avg_tfidf = np.asarray(X_tfidf.mean(axis=0)).ravel()\n",
        "\n",
        "# Step 2: Select the top 30 words with the highest average TF-IDF scores\n",
        "top_n = 30\n",
        "top_indices = avg_tfidf.argsort()[::-1][:top_n]  # Sort indices in descending order\n",
        "selected_words = [vocab[i] for i in top_indices]  # Get corresponding word list\n",
        "selected_vectors = tfidf_matrix[top_indices]      # Get corresponding TF-IDF vectors\n",
        "\n",
        "# Step 3: Apply PCA to reduce TF-IDF vectors from high-dimension to 2D\n",
        "pca = PCA(n_components=2)\n",
        "reduced = pca.fit_transform(selected_vectors)  # Each word now has 2 coordinates\n",
        "\n",
        "# Step 4: Create a scatter plot of these 2D points\n",
        "plt.figure(figsize=(8, 8))\n",
        "plt.scatter(reduced[:, 0], reduced[:, 1], color='skyblue', edgecolor='k', s=120)\n",
        "\n",
        "# Step 5: Add labels (words) next to each point\n",
        "texts = []\n",
        "for i, word in enumerate(selected_words):\n",
        "    texts.append(plt.text(reduced[i, 0], reduced[i, 1], word, fontsize=10))\n",
        "\n",
        "# Step 6: Adjust text labels to prevent overlap and add arrows if needed\n",
        "adjust_text(texts, arrowprops=dict(arrowstyle='->', color='gray', lw=1))\n",
        "\n",
        "# Step 7: Final touches – titles, labels, and layout\n",
        "plt.title(\"Top 30 TF-IDF Words Visualized via PCA\", fontsize=16)\n",
        "plt.xlabel(\"Principal Component 1\")\n",
        "plt.ylabel(\"Principal Component 2\")\n",
        "plt.grid(True)\n",
        "plt.tight_layout()\n",
        "plt.show()\n"
      ]
    },
    {
      "cell_type": "code",
      "execution_count": null,
      "id": "4QfHW4jssySc",
      "metadata": {
        "id": "4QfHW4jssySc"
      },
      "outputs": [],
      "source": []
    }
  ],
  "metadata": {
    "colab": {
      "provenance": []
    },
    "kernelspec": {
      "display_name": "Python [conda env:base] *",
      "language": "python",
      "name": "conda-base-py"
    },
    "language_info": {
      "codemirror_mode": {
        "name": "ipython",
        "version": 3
      },
      "file_extension": ".py",
      "mimetype": "text/x-python",
      "name": "python",
      "nbconvert_exporter": "python",
      "pygments_lexer": "ipython3",
      "version": "3.12.7"
    }
  },
  "nbformat": 4,
  "nbformat_minor": 5
}